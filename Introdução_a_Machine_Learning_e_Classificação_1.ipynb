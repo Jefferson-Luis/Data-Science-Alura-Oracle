{
  "nbformat": 4,
  "nbformat_minor": 0,
  "metadata": {
    "colab": {
      "provenance": [],
      "authorship_tag": "ABX9TyNc9k0ZdWAyQATHI4ME/ODD"
    },
    "kernelspec": {
      "name": "python3",
      "display_name": "Python 3"
    },
    "language_info": {
      "name": "python"
    }
  },
  "cells": [
    {
      "cell_type": "code",
      "execution_count": null,
      "metadata": {
        "id": "HYlgk0XKwSBl"
      },
      "outputs": [],
      "source": [
        "# features ( 1 sim, 0 não)\n",
        "# longo?\n",
        "# perna curta?\n",
        "# faz auau?\n",
        "porco1 = [ 0, 1, 0]\n",
        "porco2 = [ 0, 1, 1]\n",
        "porco3 = [ 1, 1, 0]\n",
        "\n",
        "cachorro1 =[0,1,1]\n",
        "cachorro2 =[1,0,1]\n",
        "cachorro3 =[1,1,1]\n",
        "\n",
        "treino_x = [porco1, porco2, porco3, cachorro1, cachorro2, cachorro3]\n",
        "\n",
        "# classes porco =1  , cachorro = 0\n",
        "treino_y = [1,1,1,0,0,0] # labels / etiquetas\n",
        "\n"
      ]
    },
    {
      "cell_type": "code",
      "source": [
        "from sklearn.svm import LinearSVC\n",
        "\n",
        "model = LinearSVC()\n",
        "model.fit(treino_x, treino_y)"
      ],
      "metadata": {
        "colab": {
          "base_uri": "https://localhost:8080/"
        },
        "id": "pJLeKmDTwjx5",
        "outputId": "c8dfedac-3d4b-493b-a852-80ae136b2fe2"
      },
      "execution_count": null,
      "outputs": [
        {
          "output_type": "execute_result",
          "data": {
            "text/plain": [
              "LinearSVC()"
            ]
          },
          "metadata": {},
          "execution_count": 22
        }
      ]
    },
    {
      "cell_type": "code",
      "source": [
        "animal_misterioso = [1,1,1]\n",
        "model.predict([animal_misterioso])"
      ],
      "metadata": {
        "colab": {
          "base_uri": "https://localhost:8080/"
        },
        "id": "VFjW1Rk_ySyg",
        "outputId": "45f87ce7-dbea-4457-9b22-b9515b18c411"
      },
      "execution_count": null,
      "outputs": [
        {
          "output_type": "execute_result",
          "data": {
            "text/plain": [
              "array([0])"
            ]
          },
          "metadata": {},
          "execution_count": 23
        }
      ]
    },
    {
      "cell_type": "code",
      "source": [
        "misterio1 = [1,1,1]\n",
        "misterio2 = [1,1,0]\n",
        "misterio3 = [0,1,1]\n",
        "\n",
        "teste_x = [misterio1,misterio2,misterio3]\n",
        "teste_y = [0,1,1]\n",
        "previsoes = model.predict(teste_x)"
      ],
      "metadata": {
        "id": "Ubz6s1KOy35P"
      },
      "execution_count": null,
      "outputs": []
    },
    {
      "cell_type": "code",
      "source": [],
      "metadata": {
        "id": "fwKTBgtMzSxd"
      },
      "execution_count": null,
      "outputs": []
    },
    {
      "cell_type": "code",
      "source": [
        "previsoes"
      ],
      "metadata": {
        "colab": {
          "base_uri": "https://localhost:8080/"
        },
        "id": "jPmysburzwTp",
        "outputId": "5ce70ade-c6fe-4c0e-cb45-83de5e77d459"
      },
      "execution_count": null,
      "outputs": [
        {
          "output_type": "execute_result",
          "data": {
            "text/plain": [
              "array([0, 1, 0])"
            ]
          },
          "metadata": {},
          "execution_count": 11
        }
      ]
    },
    {
      "cell_type": "code",
      "source": [
        "teste_y"
      ],
      "metadata": {
        "colab": {
          "base_uri": "https://localhost:8080/"
        },
        "id": "-5n6hFujz1uP",
        "outputId": "4f8255dd-a14d-45e1-d5be-9e5c4c8098f9"
      },
      "execution_count": null,
      "outputs": [
        {
          "output_type": "execute_result",
          "data": {
            "text/plain": [
              "[0, 1, 1]"
            ]
          },
          "metadata": {},
          "execution_count": 25
        }
      ]
    },
    {
      "cell_type": "code",
      "source": [
        "# comparações\n",
        "\n",
        "previsoes == teste_y"
      ],
      "metadata": {
        "colab": {
          "base_uri": "https://localhost:8080/"
        },
        "id": "VzaTKLmUz3lb",
        "outputId": "bf01f93d-ddf5-404f-b5b7-381534b0bfa8"
      },
      "execution_count": null,
      "outputs": [
        {
          "output_type": "execute_result",
          "data": {
            "text/plain": [
              "array([ True,  True, False])"
            ]
          },
          "metadata": {},
          "execution_count": 26
        }
      ]
    },
    {
      "cell_type": "code",
      "source": [
        "# somando os verdadeiros\n",
        "corretos = (previsoes == teste_y).sum()\n",
        "total = len(teste_x)\n",
        "taxa_de_acertos = corretos/total\n",
        "print('Taxa de acerto %.2f '% (taxa_de_acertos * 100))"
      ],
      "metadata": {
        "colab": {
          "base_uri": "https://localhost:8080/"
        },
        "id": "4EK-Jlo-0Fmn",
        "outputId": "51d05c1e-3c22-491e-bfd4-205a729d3e67"
      },
      "execution_count": null,
      "outputs": [
        {
          "output_type": "stream",
          "name": "stdout",
          "text": [
            "Taxa de acerto 66.67 \n"
          ]
        }
      ]
    },
    {
      "cell_type": "code",
      "source": [
        "\n",
        "from sklearn.metrics import accuracy_score\n",
        "\n",
        "taxa_de_acertp = accuracy_score(teste_y, previsoes)\n",
        "print('Taxa de acerto %.2f'% (taxa_de_acertos * 100))"
      ],
      "metadata": {
        "colab": {
          "base_uri": "https://localhost:8080/"
        },
        "id": "t6G7Ea520aQR",
        "outputId": "57f3b063-8e25-43a2-d8a7-49d16b0bb40f"
      },
      "execution_count": null,
      "outputs": [
        {
          "output_type": "stream",
          "name": "stdout",
          "text": [
            "Taxa de acerto 66.67\n"
          ]
        }
      ]
    },
    {
      "cell_type": "code",
      "source": [],
      "metadata": {
        "id": "0wKrhnBq2JEg"
      },
      "execution_count": null,
      "outputs": []
    }
  ]
}