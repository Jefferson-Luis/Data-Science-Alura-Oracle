{
 "cells": [
  {
   "cell_type": "markdown",
   "id": "17b1f5b2",
   "metadata": {},
   "source": [
    "### OCI Data Science - Useful Tips\n",
    "<details>\n",
    "<summary><font size=\"2\">Check for Public Internet Access</font></summary>\n",
    "\n",
    "```python\n",
    "import requests\n",
    "response = requests.get(\"https://oracle.com\")\n",
    "assert response.status_code==200, \"Internet connection failed\"\n",
    "```\n",
    "</details>\n",
    "<details>\n",
    "<summary><font size=\"2\">Helpful Documentation </font></summary>\n",
    "<ul><li><a href=\"https://docs.cloud.oracle.com/en-us/iaas/data-science/using/data-science.htm\">Data Science Service Documentation</a></li>\n",
    "<li><a href=\"https://docs.cloud.oracle.com/iaas/tools/ads-sdk/latest/index.html\">ADS documentation</a></li>\n",
    "</ul>\n",
    "</details>\n",
    "<details>\n",
    "<summary><font size=\"2\">Typical Cell Imports and Settings for ADS</font></summary>\n",
    "\n",
    "```python\n",
    "%load_ext autoreload\n",
    "%autoreload 2\n",
    "%matplotlib inline\n",
    "\n",
    "import warnings\n",
    "warnings.filterwarnings('ignore')\n",
    "\n",
    "import logging\n",
    "logging.basicConfig(format='%(levelname)s:%(message)s', level=logging.ERROR)\n",
    "\n",
    "import ads\n",
    "from ads.dataset.factory import DatasetFactory\n",
    "from ads.automl.provider import OracleAutoMLProvider\n",
    "from ads.automl.driver import AutoML\n",
    "from ads.evaluations.evaluator import ADSEvaluator\n",
    "from ads.common.data import ADSData\n",
    "from ads.explanations.explainer import ADSExplainer\n",
    "from ads.explanations.mlx_global_explainer import MLXGlobalExplainer\n",
    "from ads.explanations.mlx_local_explainer import MLXLocalExplainer\n",
    "from ads.catalog.model import ModelCatalog\n",
    "from ads.common.model_artifact import ModelArtifact\n",
    "```\n",
    "</details>\n",
    "<details>\n",
    "<summary><font size=\"2\">Useful Environment Variables</font></summary>\n",
    "\n",
    "```python\n",
    "import os\n",
    "print(os.environ[\"NB_SESSION_COMPARTMENT_OCID\"])\n",
    "print(os.environ[\"PROJECT_OCID\"])\n",
    "print(os.environ[\"USER_OCID\"])\n",
    "print(os.environ[\"TENANCY_OCID\"])\n",
    "print(os.environ[\"NB_REGION\"])\n",
    "```\n",
    "</details>"
   ]
  },
  {
   "cell_type": "markdown",
   "id": "38ddd8a2",
   "metadata": {},
   "source": [
    "# Base de dados \n",
    "# https://www.kaggle.com/datasets/dileep070/heart-disease-prediction-using-logistic-regression?resource=download\n"
   ]
  },
  {
   "cell_type": "code",
   "execution_count": 1,
   "id": "50628125",
   "metadata": {},
   "outputs": [],
   "source": [
    "import pandas as pd"
   ]
  },
  {
   "cell_type": "code",
   "execution_count": 3,
   "id": "8ac877a8",
   "metadata": {},
   "outputs": [
    {
     "data": {
      "text/plain": [
       "'1.4.4'"
      ]
     },
     "execution_count": 3,
     "metadata": {},
     "output_type": "execute_result"
    }
   ],
   "source": [
    "pd.__version__"
   ]
  },
  {
   "cell_type": "code",
   "execution_count": 3,
   "id": "b5e861a3",
   "metadata": {},
   "outputs": [],
   "source": [
    "import ads"
   ]
  },
  {
   "cell_type": "code",
   "execution_count": 4,
   "id": "056de2ec",
   "metadata": {},
   "outputs": [
    {
     "data": {
      "text/plain": [
       "'2.6.8'"
      ]
     },
     "execution_count": 4,
     "metadata": {},
     "output_type": "execute_result"
    }
   ],
   "source": [
    "ads.__version__"
   ]
  },
  {
   "cell_type": "markdown",
   "id": "9c17fe02",
   "metadata": {},
   "source": [
    "# Conhecendo os dados\n",
    "## Carregando o arquivo"
   ]
  },
  {
   "cell_type": "code",
   "execution_count": 5,
   "id": "07a46309",
   "metadata": {},
   "outputs": [
    {
     "data": {
      "text/html": [
       "<div>\n",
       "<style scoped>\n",
       "    .dataframe tbody tr th:only-of-type {\n",
       "        vertical-align: middle;\n",
       "    }\n",
       "\n",
       "    .dataframe tbody tr th {\n",
       "        vertical-align: top;\n",
       "    }\n",
       "\n",
       "    .dataframe thead th {\n",
       "        text-align: right;\n",
       "    }\n",
       "</style>\n",
       "<table border=\"1\" class=\"dataframe\">\n",
       "  <thead>\n",
       "    <tr style=\"text-align: right;\">\n",
       "      <th></th>\n",
       "      <th>male</th>\n",
       "      <th>age</th>\n",
       "      <th>education</th>\n",
       "      <th>currentSmoker</th>\n",
       "      <th>cigsPerDay</th>\n",
       "      <th>BPMeds</th>\n",
       "      <th>prevalentStroke</th>\n",
       "      <th>prevalentHyp</th>\n",
       "      <th>diabetes</th>\n",
       "      <th>totChol</th>\n",
       "      <th>sysBP</th>\n",
       "      <th>diaBP</th>\n",
       "      <th>BMI</th>\n",
       "      <th>heartRate</th>\n",
       "      <th>glucose</th>\n",
       "      <th>TenYearCHD</th>\n",
       "    </tr>\n",
       "  </thead>\n",
       "  <tbody>\n",
       "    <tr>\n",
       "      <th>0</th>\n",
       "      <td>1</td>\n",
       "      <td>39</td>\n",
       "      <td>4.0</td>\n",
       "      <td>0</td>\n",
       "      <td>0.0</td>\n",
       "      <td>0.0</td>\n",
       "      <td>0</td>\n",
       "      <td>0</td>\n",
       "      <td>0</td>\n",
       "      <td>195.0</td>\n",
       "      <td>106.0</td>\n",
       "      <td>70.0</td>\n",
       "      <td>26.97</td>\n",
       "      <td>80.0</td>\n",
       "      <td>77.0</td>\n",
       "      <td>0</td>\n",
       "    </tr>\n",
       "    <tr>\n",
       "      <th>1</th>\n",
       "      <td>0</td>\n",
       "      <td>46</td>\n",
       "      <td>2.0</td>\n",
       "      <td>0</td>\n",
       "      <td>0.0</td>\n",
       "      <td>0.0</td>\n",
       "      <td>0</td>\n",
       "      <td>0</td>\n",
       "      <td>0</td>\n",
       "      <td>250.0</td>\n",
       "      <td>121.0</td>\n",
       "      <td>81.0</td>\n",
       "      <td>28.73</td>\n",
       "      <td>95.0</td>\n",
       "      <td>76.0</td>\n",
       "      <td>0</td>\n",
       "    </tr>\n",
       "    <tr>\n",
       "      <th>2</th>\n",
       "      <td>1</td>\n",
       "      <td>48</td>\n",
       "      <td>1.0</td>\n",
       "      <td>1</td>\n",
       "      <td>20.0</td>\n",
       "      <td>0.0</td>\n",
       "      <td>0</td>\n",
       "      <td>0</td>\n",
       "      <td>0</td>\n",
       "      <td>245.0</td>\n",
       "      <td>127.5</td>\n",
       "      <td>80.0</td>\n",
       "      <td>25.34</td>\n",
       "      <td>75.0</td>\n",
       "      <td>70.0</td>\n",
       "      <td>0</td>\n",
       "    </tr>\n",
       "    <tr>\n",
       "      <th>3</th>\n",
       "      <td>0</td>\n",
       "      <td>61</td>\n",
       "      <td>3.0</td>\n",
       "      <td>1</td>\n",
       "      <td>30.0</td>\n",
       "      <td>0.0</td>\n",
       "      <td>0</td>\n",
       "      <td>1</td>\n",
       "      <td>0</td>\n",
       "      <td>225.0</td>\n",
       "      <td>150.0</td>\n",
       "      <td>95.0</td>\n",
       "      <td>28.58</td>\n",
       "      <td>65.0</td>\n",
       "      <td>103.0</td>\n",
       "      <td>1</td>\n",
       "    </tr>\n",
       "    <tr>\n",
       "      <th>4</th>\n",
       "      <td>0</td>\n",
       "      <td>46</td>\n",
       "      <td>3.0</td>\n",
       "      <td>1</td>\n",
       "      <td>23.0</td>\n",
       "      <td>0.0</td>\n",
       "      <td>0</td>\n",
       "      <td>0</td>\n",
       "      <td>0</td>\n",
       "      <td>285.0</td>\n",
       "      <td>130.0</td>\n",
       "      <td>84.0</td>\n",
       "      <td>23.10</td>\n",
       "      <td>85.0</td>\n",
       "      <td>85.0</td>\n",
       "      <td>0</td>\n",
       "    </tr>\n",
       "    <tr>\n",
       "      <th>...</th>\n",
       "      <td>...</td>\n",
       "      <td>...</td>\n",
       "      <td>...</td>\n",
       "      <td>...</td>\n",
       "      <td>...</td>\n",
       "      <td>...</td>\n",
       "      <td>...</td>\n",
       "      <td>...</td>\n",
       "      <td>...</td>\n",
       "      <td>...</td>\n",
       "      <td>...</td>\n",
       "      <td>...</td>\n",
       "      <td>...</td>\n",
       "      <td>...</td>\n",
       "      <td>...</td>\n",
       "      <td>...</td>\n",
       "    </tr>\n",
       "    <tr>\n",
       "      <th>4233</th>\n",
       "      <td>1</td>\n",
       "      <td>50</td>\n",
       "      <td>1.0</td>\n",
       "      <td>1</td>\n",
       "      <td>1.0</td>\n",
       "      <td>0.0</td>\n",
       "      <td>0</td>\n",
       "      <td>1</td>\n",
       "      <td>0</td>\n",
       "      <td>313.0</td>\n",
       "      <td>179.0</td>\n",
       "      <td>92.0</td>\n",
       "      <td>25.97</td>\n",
       "      <td>66.0</td>\n",
       "      <td>86.0</td>\n",
       "      <td>1</td>\n",
       "    </tr>\n",
       "    <tr>\n",
       "      <th>4234</th>\n",
       "      <td>1</td>\n",
       "      <td>51</td>\n",
       "      <td>3.0</td>\n",
       "      <td>1</td>\n",
       "      <td>43.0</td>\n",
       "      <td>0.0</td>\n",
       "      <td>0</td>\n",
       "      <td>0</td>\n",
       "      <td>0</td>\n",
       "      <td>207.0</td>\n",
       "      <td>126.5</td>\n",
       "      <td>80.0</td>\n",
       "      <td>19.71</td>\n",
       "      <td>65.0</td>\n",
       "      <td>68.0</td>\n",
       "      <td>0</td>\n",
       "    </tr>\n",
       "    <tr>\n",
       "      <th>4235</th>\n",
       "      <td>0</td>\n",
       "      <td>48</td>\n",
       "      <td>2.0</td>\n",
       "      <td>1</td>\n",
       "      <td>20.0</td>\n",
       "      <td>NaN</td>\n",
       "      <td>0</td>\n",
       "      <td>0</td>\n",
       "      <td>0</td>\n",
       "      <td>248.0</td>\n",
       "      <td>131.0</td>\n",
       "      <td>72.0</td>\n",
       "      <td>22.00</td>\n",
       "      <td>84.0</td>\n",
       "      <td>86.0</td>\n",
       "      <td>0</td>\n",
       "    </tr>\n",
       "    <tr>\n",
       "      <th>4236</th>\n",
       "      <td>0</td>\n",
       "      <td>44</td>\n",
       "      <td>1.0</td>\n",
       "      <td>1</td>\n",
       "      <td>15.0</td>\n",
       "      <td>0.0</td>\n",
       "      <td>0</td>\n",
       "      <td>0</td>\n",
       "      <td>0</td>\n",
       "      <td>210.0</td>\n",
       "      <td>126.5</td>\n",
       "      <td>87.0</td>\n",
       "      <td>19.16</td>\n",
       "      <td>86.0</td>\n",
       "      <td>NaN</td>\n",
       "      <td>0</td>\n",
       "    </tr>\n",
       "    <tr>\n",
       "      <th>4237</th>\n",
       "      <td>0</td>\n",
       "      <td>52</td>\n",
       "      <td>2.0</td>\n",
       "      <td>0</td>\n",
       "      <td>0.0</td>\n",
       "      <td>0.0</td>\n",
       "      <td>0</td>\n",
       "      <td>0</td>\n",
       "      <td>0</td>\n",
       "      <td>269.0</td>\n",
       "      <td>133.5</td>\n",
       "      <td>83.0</td>\n",
       "      <td>21.47</td>\n",
       "      <td>80.0</td>\n",
       "      <td>107.0</td>\n",
       "      <td>0</td>\n",
       "    </tr>\n",
       "  </tbody>\n",
       "</table>\n",
       "<p>4238 rows × 16 columns</p>\n",
       "</div>"
      ],
      "text/plain": [
       "      male  age  education  currentSmoker  cigsPerDay  BPMeds  \\\n",
       "0        1   39        4.0              0         0.0     0.0   \n",
       "1        0   46        2.0              0         0.0     0.0   \n",
       "2        1   48        1.0              1        20.0     0.0   \n",
       "3        0   61        3.0              1        30.0     0.0   \n",
       "4        0   46        3.0              1        23.0     0.0   \n",
       "...    ...  ...        ...            ...         ...     ...   \n",
       "4233     1   50        1.0              1         1.0     0.0   \n",
       "4234     1   51        3.0              1        43.0     0.0   \n",
       "4235     0   48        2.0              1        20.0     NaN   \n",
       "4236     0   44        1.0              1        15.0     0.0   \n",
       "4237     0   52        2.0              0         0.0     0.0   \n",
       "\n",
       "      prevalentStroke  prevalentHyp  diabetes  totChol  sysBP  diaBP    BMI  \\\n",
       "0                   0             0         0    195.0  106.0   70.0  26.97   \n",
       "1                   0             0         0    250.0  121.0   81.0  28.73   \n",
       "2                   0             0         0    245.0  127.5   80.0  25.34   \n",
       "3                   0             1         0    225.0  150.0   95.0  28.58   \n",
       "4                   0             0         0    285.0  130.0   84.0  23.10   \n",
       "...               ...           ...       ...      ...    ...    ...    ...   \n",
       "4233                0             1         0    313.0  179.0   92.0  25.97   \n",
       "4234                0             0         0    207.0  126.5   80.0  19.71   \n",
       "4235                0             0         0    248.0  131.0   72.0  22.00   \n",
       "4236                0             0         0    210.0  126.5   87.0  19.16   \n",
       "4237                0             0         0    269.0  133.5   83.0  21.47   \n",
       "\n",
       "      heartRate  glucose  TenYearCHD  \n",
       "0          80.0     77.0           0  \n",
       "1          95.0     76.0           0  \n",
       "2          75.0     70.0           0  \n",
       "3          65.0    103.0           1  \n",
       "4          85.0     85.0           0  \n",
       "...         ...      ...         ...  \n",
       "4233       66.0     86.0           1  \n",
       "4234       65.0     68.0           0  \n",
       "4235       84.0     86.0           0  \n",
       "4236       86.0      NaN           0  \n",
       "4237       80.0    107.0           0  \n",
       "\n",
       "[4238 rows x 16 columns]"
      ]
     },
     "execution_count": 5,
     "metadata": {},
     "output_type": "execute_result"
    }
   ],
   "source": [
    "pd.read_csv('framingham.csv')"
   ]
  },
  {
   "cell_type": "code",
   "execution_count": 6,
   "id": "b20fe469",
   "metadata": {},
   "outputs": [],
   "source": [
    "dados = pd.read_csv('framingham.csv')"
   ]
  },
  {
   "cell_type": "code",
   "execution_count": 7,
   "id": "a1d8f7b4",
   "metadata": {},
   "outputs": [
    {
     "data": {
      "text/plain": [
       "(4238, 16)"
      ]
     },
     "execution_count": 7,
     "metadata": {},
     "output_type": "execute_result"
    }
   ],
   "source": [
    "# verificando o formato \n",
    "\n",
    "dados.shape"
   ]
  },
  {
   "cell_type": "code",
   "execution_count": 8,
   "id": "568093ca",
   "metadata": {},
   "outputs": [
    {
     "data": {
      "text/plain": [
       "Index(['male', 'age', 'education', 'currentSmoker', 'cigsPerDay', 'BPMeds',\n",
       "       'prevalentStroke', 'prevalentHyp', 'diabetes', 'totChol', 'sysBP',\n",
       "       'diaBP', 'BMI', 'heartRate', 'glucose', 'TenYearCHD'],\n",
       "      dtype='object')"
      ]
     },
     "execution_count": 8,
     "metadata": {},
     "output_type": "execute_result"
    }
   ],
   "source": [
    "# quais as colunas\n",
    "dados.columns"
   ]
  },
  {
   "cell_type": "code",
   "execution_count": 9,
   "id": "a55ae4f4",
   "metadata": {},
   "outputs": [
    {
     "data": {
      "text/html": [
       "<div>\n",
       "<style scoped>\n",
       "    .dataframe tbody tr th:only-of-type {\n",
       "        vertical-align: middle;\n",
       "    }\n",
       "\n",
       "    .dataframe tbody tr th {\n",
       "        vertical-align: top;\n",
       "    }\n",
       "\n",
       "    .dataframe thead th {\n",
       "        text-align: right;\n",
       "    }\n",
       "</style>\n",
       "<table border=\"1\" class=\"dataframe\">\n",
       "  <thead>\n",
       "    <tr style=\"text-align: right;\">\n",
       "      <th></th>\n",
       "      <th>male</th>\n",
       "      <th>age</th>\n",
       "      <th>education</th>\n",
       "      <th>currentSmoker</th>\n",
       "      <th>cigsPerDay</th>\n",
       "      <th>BPMeds</th>\n",
       "      <th>prevalentStroke</th>\n",
       "      <th>prevalentHyp</th>\n",
       "      <th>diabetes</th>\n",
       "      <th>totChol</th>\n",
       "      <th>sysBP</th>\n",
       "      <th>diaBP</th>\n",
       "      <th>BMI</th>\n",
       "      <th>heartRate</th>\n",
       "      <th>glucose</th>\n",
       "      <th>TenYearCHD</th>\n",
       "    </tr>\n",
       "  </thead>\n",
       "  <tbody>\n",
       "    <tr>\n",
       "      <th>0</th>\n",
       "      <td>1</td>\n",
       "      <td>39</td>\n",
       "      <td>4.0</td>\n",
       "      <td>0</td>\n",
       "      <td>0.0</td>\n",
       "      <td>0.0</td>\n",
       "      <td>0</td>\n",
       "      <td>0</td>\n",
       "      <td>0</td>\n",
       "      <td>195.0</td>\n",
       "      <td>106.0</td>\n",
       "      <td>70.0</td>\n",
       "      <td>26.97</td>\n",
       "      <td>80.0</td>\n",
       "      <td>77.0</td>\n",
       "      <td>0</td>\n",
       "    </tr>\n",
       "    <tr>\n",
       "      <th>1</th>\n",
       "      <td>0</td>\n",
       "      <td>46</td>\n",
       "      <td>2.0</td>\n",
       "      <td>0</td>\n",
       "      <td>0.0</td>\n",
       "      <td>0.0</td>\n",
       "      <td>0</td>\n",
       "      <td>0</td>\n",
       "      <td>0</td>\n",
       "      <td>250.0</td>\n",
       "      <td>121.0</td>\n",
       "      <td>81.0</td>\n",
       "      <td>28.73</td>\n",
       "      <td>95.0</td>\n",
       "      <td>76.0</td>\n",
       "      <td>0</td>\n",
       "    </tr>\n",
       "    <tr>\n",
       "      <th>2</th>\n",
       "      <td>1</td>\n",
       "      <td>48</td>\n",
       "      <td>1.0</td>\n",
       "      <td>1</td>\n",
       "      <td>20.0</td>\n",
       "      <td>0.0</td>\n",
       "      <td>0</td>\n",
       "      <td>0</td>\n",
       "      <td>0</td>\n",
       "      <td>245.0</td>\n",
       "      <td>127.5</td>\n",
       "      <td>80.0</td>\n",
       "      <td>25.34</td>\n",
       "      <td>75.0</td>\n",
       "      <td>70.0</td>\n",
       "      <td>0</td>\n",
       "    </tr>\n",
       "    <tr>\n",
       "      <th>3</th>\n",
       "      <td>0</td>\n",
       "      <td>61</td>\n",
       "      <td>3.0</td>\n",
       "      <td>1</td>\n",
       "      <td>30.0</td>\n",
       "      <td>0.0</td>\n",
       "      <td>0</td>\n",
       "      <td>1</td>\n",
       "      <td>0</td>\n",
       "      <td>225.0</td>\n",
       "      <td>150.0</td>\n",
       "      <td>95.0</td>\n",
       "      <td>28.58</td>\n",
       "      <td>65.0</td>\n",
       "      <td>103.0</td>\n",
       "      <td>1</td>\n",
       "    </tr>\n",
       "    <tr>\n",
       "      <th>4</th>\n",
       "      <td>0</td>\n",
       "      <td>46</td>\n",
       "      <td>3.0</td>\n",
       "      <td>1</td>\n",
       "      <td>23.0</td>\n",
       "      <td>0.0</td>\n",
       "      <td>0</td>\n",
       "      <td>0</td>\n",
       "      <td>0</td>\n",
       "      <td>285.0</td>\n",
       "      <td>130.0</td>\n",
       "      <td>84.0</td>\n",
       "      <td>23.10</td>\n",
       "      <td>85.0</td>\n",
       "      <td>85.0</td>\n",
       "      <td>0</td>\n",
       "    </tr>\n",
       "  </tbody>\n",
       "</table>\n",
       "</div>"
      ],
      "text/plain": [
       "   male  age  education  currentSmoker  cigsPerDay  BPMeds  prevalentStroke  \\\n",
       "0     1   39        4.0              0         0.0     0.0                0   \n",
       "1     0   46        2.0              0         0.0     0.0                0   \n",
       "2     1   48        1.0              1        20.0     0.0                0   \n",
       "3     0   61        3.0              1        30.0     0.0                0   \n",
       "4     0   46        3.0              1        23.0     0.0                0   \n",
       "\n",
       "   prevalentHyp  diabetes  totChol  sysBP  diaBP    BMI  heartRate  glucose  \\\n",
       "0             0         0    195.0  106.0   70.0  26.97       80.0     77.0   \n",
       "1             0         0    250.0  121.0   81.0  28.73       95.0     76.0   \n",
       "2             0         0    245.0  127.5   80.0  25.34       75.0     70.0   \n",
       "3             1         0    225.0  150.0   95.0  28.58       65.0    103.0   \n",
       "4             0         0    285.0  130.0   84.0  23.10       85.0     85.0   \n",
       "\n",
       "   TenYearCHD  \n",
       "0           0  \n",
       "1           0  \n",
       "2           0  \n",
       "3           1  \n",
       "4           0  "
      ]
     },
     "execution_count": 9,
     "metadata": {},
     "output_type": "execute_result"
    }
   ],
   "source": [
    "dados.head()"
   ]
  },
  {
   "cell_type": "markdown",
   "id": "e9fcff3b",
   "metadata": {},
   "source": [
    "## 2.2 Usando o Oracle ADS para importar os dados"
   ]
  },
  {
   "cell_type": "code",
   "execution_count": 10,
   "id": "ccce361b",
   "metadata": {},
   "outputs": [],
   "source": [
    "import ads"
   ]
  },
  {
   "cell_type": "code",
   "execution_count": 11,
   "id": "2217027b",
   "metadata": {},
   "outputs": [],
   "source": [
    "from ads.dataset.factory import DatasetFactory"
   ]
  },
  {
   "cell_type": "code",
   "execution_count": 12,
   "id": "b79724fb",
   "metadata": {},
   "outputs": [
    {
     "data": {
      "application/vnd.jupyter.widget-view+json": {
       "model_id": "",
       "version_major": 2,
       "version_minor": 0
      },
      "text/plain": [
       "loop1:   0%|          | 0/4 [00:00<?, ?it/s]"
      ]
     },
     "metadata": {},
     "output_type": "display_data"
    }
   ],
   "source": [
    "ds = DatasetFactory.open('framingham.csv')"
   ]
  },
  {
   "cell_type": "code",
   "execution_count": 13,
   "id": "2e702967",
   "metadata": {},
   "outputs": [
    {
     "data": {
      "text/plain": [
       "ads.dataset.dataset.ADSDataset"
      ]
     },
     "execution_count": 13,
     "metadata": {},
     "output_type": "execute_result"
    }
   ],
   "source": [
    "type(ds)"
   ]
  },
  {
   "cell_type": "code",
   "execution_count": 14,
   "id": "5f6c38a4",
   "metadata": {},
   "outputs": [
    {
     "data": {
      "application/vnd.jupyter.widget-view+json": {
       "model_id": "",
       "version_major": 2,
       "version_minor": 0
      },
      "text/plain": [
       "loop1:   0%|          | 0/4 [00:00<?, ?it/s]"
      ]
     },
     "metadata": {},
     "output_type": "display_data"
    }
   ],
   "source": [
    "# verificando TenYearCHD - previsão de ter a doença coronária no coração nos próximos 10 anos | risco coronária \n",
    "\n",
    "ds = DatasetFactory.open('framingham.csv', target='TenYearCHD')"
   ]
  },
  {
   "cell_type": "code",
   "execution_count": 15,
   "id": "7928744d",
   "metadata": {},
   "outputs": [
    {
     "data": {
      "text/plain": [
       "ads.dataset.classification_dataset.BinaryClassificationDataset"
      ]
     },
     "execution_count": 15,
     "metadata": {},
     "output_type": "execute_result"
    }
   ],
   "source": [
    "type(ds)"
   ]
  },
  {
   "cell_type": "code",
   "execution_count": 16,
   "id": "ef0224c5",
   "metadata": {},
   "outputs": [
    {
     "data": {
      "text/html": [
       "\n",
       "        <style>\n",
       "            .mostly-customized-scrollbar {\n",
       "              display: block;\n",
       "              width: 100%;\n",
       "              overflow: auto;\n",
       "            }\n",
       "\n",
       "            .mostly-customized-scrollbar::-webkit-scrollbar {\n",
       "              width: 5px;\n",
       "              height: 8px;\n",
       "              background-color: #aaa;\n",
       "            }\n",
       "\n",
       "            .mostly-customized-scrollbar::-webkit-scrollbar-thumb {\n",
       "                background: #000;\n",
       "                border-radius: 10px;\n",
       "            }\n",
       "        </style>\n",
       "\n",
       "        <div style=\"width=100%; display: flex; flex-wrap: nowrap; overflow-x: auto;\">\n",
       "            <div class=\"mostly-customized-scrollbar\">\n",
       "                <style type=\"text/css\">\n",
       "#T_965a1 tbody tr:nth-child(even) {\n",
       "  background-color: #F8F8F8;\n",
       "}\n",
       "#T_965a1 tbody tr:hover {\n",
       "  background-color: #D9EDFD;\n",
       "}\n",
       "#T_965a1 th {\n",
       "  font-size: 12px;\n",
       "  text-align: center;\n",
       "  font-weight: bold;\n",
       "  background-color: #D3D3D3;\n",
       "  padding-left: 5px;\n",
       "  padding-right: 5px;\n",
       "  text-align: right;\n",
       "}\n",
       "#T_965a1 td {\n",
       "  font-size: 12px;\n",
       "  text_wrap: False;\n",
       "  white-space: nowrap;\n",
       "  overflow: hidden;\n",
       "  text-overflow: ellipsis;\n",
       "  max-width: 75px;\n",
       "}\n",
       "</style>\n",
       "<table id=\"T_965a1\" class=table>\n",
       "  <thead>\n",
       "    <tr>\n",
       "      <th id=\"T_965a1_level0_col0\" class=\"col_heading level0 col0\" >TenYearCHD</th>\n",
       "      <th id=\"T_965a1_level0_col1\" class=\"col_heading level0 col1\" >male</th>\n",
       "      <th id=\"T_965a1_level0_col2\" class=\"col_heading level0 col2\" >age</th>\n",
       "      <th id=\"T_965a1_level0_col3\" class=\"col_heading level0 col3\" >education</th>\n",
       "      <th id=\"T_965a1_level0_col4\" class=\"col_heading level0 col4\" >currentSmoker</th>\n",
       "      <th id=\"T_965a1_level0_col5\" class=\"col_heading level0 col5\" >cigsPerDay</th>\n",
       "      <th id=\"T_965a1_level0_col6\" class=\"col_heading level0 col6\" >BPMeds</th>\n",
       "      <th id=\"T_965a1_level0_col7\" class=\"col_heading level0 col7\" >prevalentStroke</th>\n",
       "      <th id=\"T_965a1_level0_col8\" class=\"col_heading level0 col8\" >prevalentHyp</th>\n",
       "      <th id=\"T_965a1_level0_col9\" class=\"col_heading level0 col9\" >diabetes</th>\n",
       "      <th id=\"T_965a1_level0_col10\" class=\"col_heading level0 col10\" >totChol</th>\n",
       "      <th id=\"T_965a1_level0_col11\" class=\"col_heading level0 col11\" >sysBP</th>\n",
       "      <th id=\"T_965a1_level0_col12\" class=\"col_heading level0 col12\" >diaBP</th>\n",
       "      <th id=\"T_965a1_level0_col13\" class=\"col_heading level0 col13\" >BMI</th>\n",
       "      <th id=\"T_965a1_level0_col14\" class=\"col_heading level0 col14\" >heartRate</th>\n",
       "      <th id=\"T_965a1_level0_col15\" class=\"col_heading level0 col15\" >glucose</th>\n",
       "    </tr>\n",
       "  </thead>\n",
       "  <tbody>\n",
       "    <tr>\n",
       "      <td id=\"T_965a1_row0_col0\" class=\"data row0 col0\" >0</td>\n",
       "      <td id=\"T_965a1_row0_col1\" class=\"data row0 col1\" >1</td>\n",
       "      <td id=\"T_965a1_row0_col2\" class=\"data row0 col2\" >39</td>\n",
       "      <td id=\"T_965a1_row0_col3\" class=\"data row0 col3\" >4.000000</td>\n",
       "      <td id=\"T_965a1_row0_col4\" class=\"data row0 col4\" >0</td>\n",
       "      <td id=\"T_965a1_row0_col5\" class=\"data row0 col5\" >0.000000</td>\n",
       "      <td id=\"T_965a1_row0_col6\" class=\"data row0 col6\" >0.000000</td>\n",
       "      <td id=\"T_965a1_row0_col7\" class=\"data row0 col7\" >0</td>\n",
       "      <td id=\"T_965a1_row0_col8\" class=\"data row0 col8\" >0</td>\n",
       "      <td id=\"T_965a1_row0_col9\" class=\"data row0 col9\" >0</td>\n",
       "      <td id=\"T_965a1_row0_col10\" class=\"data row0 col10\" >195.000000</td>\n",
       "      <td id=\"T_965a1_row0_col11\" class=\"data row0 col11\" >106.000000</td>\n",
       "      <td id=\"T_965a1_row0_col12\" class=\"data row0 col12\" >70.000000</td>\n",
       "      <td id=\"T_965a1_row0_col13\" class=\"data row0 col13\" >26.970000</td>\n",
       "      <td id=\"T_965a1_row0_col14\" class=\"data row0 col14\" >80.000000</td>\n",
       "      <td id=\"T_965a1_row0_col15\" class=\"data row0 col15\" >77.000000</td>\n",
       "    </tr>\n",
       "    <tr>\n",
       "      <td id=\"T_965a1_row1_col0\" class=\"data row1 col0\" >0</td>\n",
       "      <td id=\"T_965a1_row1_col1\" class=\"data row1 col1\" >0</td>\n",
       "      <td id=\"T_965a1_row1_col2\" class=\"data row1 col2\" >46</td>\n",
       "      <td id=\"T_965a1_row1_col3\" class=\"data row1 col3\" >2.000000</td>\n",
       "      <td id=\"T_965a1_row1_col4\" class=\"data row1 col4\" >0</td>\n",
       "      <td id=\"T_965a1_row1_col5\" class=\"data row1 col5\" >0.000000</td>\n",
       "      <td id=\"T_965a1_row1_col6\" class=\"data row1 col6\" >0.000000</td>\n",
       "      <td id=\"T_965a1_row1_col7\" class=\"data row1 col7\" >0</td>\n",
       "      <td id=\"T_965a1_row1_col8\" class=\"data row1 col8\" >0</td>\n",
       "      <td id=\"T_965a1_row1_col9\" class=\"data row1 col9\" >0</td>\n",
       "      <td id=\"T_965a1_row1_col10\" class=\"data row1 col10\" >250.000000</td>\n",
       "      <td id=\"T_965a1_row1_col11\" class=\"data row1 col11\" >121.000000</td>\n",
       "      <td id=\"T_965a1_row1_col12\" class=\"data row1 col12\" >81.000000</td>\n",
       "      <td id=\"T_965a1_row1_col13\" class=\"data row1 col13\" >28.730000</td>\n",
       "      <td id=\"T_965a1_row1_col14\" class=\"data row1 col14\" >95.000000</td>\n",
       "      <td id=\"T_965a1_row1_col15\" class=\"data row1 col15\" >76.000000</td>\n",
       "    </tr>\n",
       "    <tr>\n",
       "      <td id=\"T_965a1_row2_col0\" class=\"data row2 col0\" >0</td>\n",
       "      <td id=\"T_965a1_row2_col1\" class=\"data row2 col1\" >1</td>\n",
       "      <td id=\"T_965a1_row2_col2\" class=\"data row2 col2\" >48</td>\n",
       "      <td id=\"T_965a1_row2_col3\" class=\"data row2 col3\" >1.000000</td>\n",
       "      <td id=\"T_965a1_row2_col4\" class=\"data row2 col4\" >1</td>\n",
       "      <td id=\"T_965a1_row2_col5\" class=\"data row2 col5\" >20.000000</td>\n",
       "      <td id=\"T_965a1_row2_col6\" class=\"data row2 col6\" >0.000000</td>\n",
       "      <td id=\"T_965a1_row2_col7\" class=\"data row2 col7\" >0</td>\n",
       "      <td id=\"T_965a1_row2_col8\" class=\"data row2 col8\" >0</td>\n",
       "      <td id=\"T_965a1_row2_col9\" class=\"data row2 col9\" >0</td>\n",
       "      <td id=\"T_965a1_row2_col10\" class=\"data row2 col10\" >245.000000</td>\n",
       "      <td id=\"T_965a1_row2_col11\" class=\"data row2 col11\" >127.500000</td>\n",
       "      <td id=\"T_965a1_row2_col12\" class=\"data row2 col12\" >80.000000</td>\n",
       "      <td id=\"T_965a1_row2_col13\" class=\"data row2 col13\" >25.340000</td>\n",
       "      <td id=\"T_965a1_row2_col14\" class=\"data row2 col14\" >75.000000</td>\n",
       "      <td id=\"T_965a1_row2_col15\" class=\"data row2 col15\" >70.000000</td>\n",
       "    </tr>\n",
       "    <tr>\n",
       "      <td id=\"T_965a1_row3_col0\" class=\"data row3 col0\" >1</td>\n",
       "      <td id=\"T_965a1_row3_col1\" class=\"data row3 col1\" >0</td>\n",
       "      <td id=\"T_965a1_row3_col2\" class=\"data row3 col2\" >61</td>\n",
       "      <td id=\"T_965a1_row3_col3\" class=\"data row3 col3\" >3.000000</td>\n",
       "      <td id=\"T_965a1_row3_col4\" class=\"data row3 col4\" >1</td>\n",
       "      <td id=\"T_965a1_row3_col5\" class=\"data row3 col5\" >30.000000</td>\n",
       "      <td id=\"T_965a1_row3_col6\" class=\"data row3 col6\" >0.000000</td>\n",
       "      <td id=\"T_965a1_row3_col7\" class=\"data row3 col7\" >0</td>\n",
       "      <td id=\"T_965a1_row3_col8\" class=\"data row3 col8\" >1</td>\n",
       "      <td id=\"T_965a1_row3_col9\" class=\"data row3 col9\" >0</td>\n",
       "      <td id=\"T_965a1_row3_col10\" class=\"data row3 col10\" >225.000000</td>\n",
       "      <td id=\"T_965a1_row3_col11\" class=\"data row3 col11\" >150.000000</td>\n",
       "      <td id=\"T_965a1_row3_col12\" class=\"data row3 col12\" >95.000000</td>\n",
       "      <td id=\"T_965a1_row3_col13\" class=\"data row3 col13\" >28.580000</td>\n",
       "      <td id=\"T_965a1_row3_col14\" class=\"data row3 col14\" >65.000000</td>\n",
       "      <td id=\"T_965a1_row3_col15\" class=\"data row3 col15\" >103.000000</td>\n",
       "    </tr>\n",
       "    <tr>\n",
       "      <td id=\"T_965a1_row4_col0\" class=\"data row4 col0\" >0</td>\n",
       "      <td id=\"T_965a1_row4_col1\" class=\"data row4 col1\" >0</td>\n",
       "      <td id=\"T_965a1_row4_col2\" class=\"data row4 col2\" >46</td>\n",
       "      <td id=\"T_965a1_row4_col3\" class=\"data row4 col3\" >3.000000</td>\n",
       "      <td id=\"T_965a1_row4_col4\" class=\"data row4 col4\" >1</td>\n",
       "      <td id=\"T_965a1_row4_col5\" class=\"data row4 col5\" >23.000000</td>\n",
       "      <td id=\"T_965a1_row4_col6\" class=\"data row4 col6\" >0.000000</td>\n",
       "      <td id=\"T_965a1_row4_col7\" class=\"data row4 col7\" >0</td>\n",
       "      <td id=\"T_965a1_row4_col8\" class=\"data row4 col8\" >0</td>\n",
       "      <td id=\"T_965a1_row4_col9\" class=\"data row4 col9\" >0</td>\n",
       "      <td id=\"T_965a1_row4_col10\" class=\"data row4 col10\" >285.000000</td>\n",
       "      <td id=\"T_965a1_row4_col11\" class=\"data row4 col11\" >130.000000</td>\n",
       "      <td id=\"T_965a1_row4_col12\" class=\"data row4 col12\" >84.000000</td>\n",
       "      <td id=\"T_965a1_row4_col13\" class=\"data row4 col13\" >23.100000</td>\n",
       "      <td id=\"T_965a1_row4_col14\" class=\"data row4 col14\" >85.000000</td>\n",
       "      <td id=\"T_965a1_row4_col15\" class=\"data row4 col15\" >85.000000</td>\n",
       "    </tr>\n",
       "  </tbody>\n",
       "</table>\n",
       "\n",
       "            </div>\n",
       "        </div>\n",
       "    "
      ],
      "text/plain": [
       "<IPython.core.display.HTML object>"
      ]
     },
     "metadata": {},
     "output_type": "display_data"
    },
    {
     "data": {
      "text/plain": [
       "BinaryClassificationDataset(target: TenYearCHD) 4,238 rows, 16 columns"
      ]
     },
     "execution_count": 16,
     "metadata": {},
     "output_type": "execute_result"
    }
   ],
   "source": [
    "ds"
   ]
  },
  {
   "cell_type": "code",
   "execution_count": 17,
   "id": "1dc5189a",
   "metadata": {},
   "outputs": [],
   "source": [
    "# Traduzindo as colunas \n",
    "\n",
    "dict_eng_port ={\n",
    "    'male':'sexo', \n",
    "    'age':'idade', \n",
    "    'education':'escolaridade', \n",
    "    'currentSmoker':'fumante', \n",
    "    'cigsPerDay':'cigarros_por_dia', \n",
    "    'BPMeds':'uso_medicamento_pressao',\n",
    "    'prevalentStroke':'AVC', \n",
    "    'prevalentHyp':'hipertensao', \n",
    "    'diabetes':'diabetes', \n",
    "    'totChol':'colesterol_total', \n",
    "    'sysBP':'pressao_arterial_sistolica',\n",
    "    'diaBP':'pressao_arterial_diastolica', \n",
    "    'BMI':'IMC', \n",
    "    'heartRate':'freq_cardiaca', \n",
    "    'glucose':'glicemia', \n",
    "    'TenYearCHD':'risco_DAC_decada'\n",
    "      \n",
    "}"
   ]
  },
  {
   "cell_type": "code",
   "execution_count": 18,
   "id": "25c55c6f",
   "metadata": {},
   "outputs": [],
   "source": [
    "ds = ds.rename_columns(columns=dict_eng_port)"
   ]
  },
  {
   "cell_type": "code",
   "execution_count": 19,
   "id": "ea9e0553",
   "metadata": {},
   "outputs": [
    {
     "data": {
      "text/plain": [
       "Index(['sexo', 'idade', 'escolaridade', 'fumante', 'cigarros_por_dia',\n",
       "       'uso_medicamento_pressao', 'AVC', 'hipertensao', 'diabetes',\n",
       "       'colesterol_total', 'pressao_arterial_sistolica',\n",
       "       'pressao_arterial_diastolica', 'IMC', 'freq_cardiaca', 'glicemia',\n",
       "       'risco_DAC_decada'],\n",
       "      dtype='object')"
      ]
     },
     "execution_count": 19,
     "metadata": {},
     "output_type": "execute_result"
    }
   ],
   "source": [
    "ds.columns"
   ]
  },
  {
   "cell_type": "code",
   "execution_count": 20,
   "id": "e6ca89e9",
   "metadata": {},
   "outputs": [
    {
     "data": {
      "text/html": [
       "<div>\n",
       "<style scoped>\n",
       "    .dataframe tbody tr th:only-of-type {\n",
       "        vertical-align: middle;\n",
       "    }\n",
       "\n",
       "    .dataframe tbody tr th {\n",
       "        vertical-align: top;\n",
       "    }\n",
       "\n",
       "    .dataframe thead th {\n",
       "        text-align: right;\n",
       "    }\n",
       "</style>\n",
       "<table border=\"1\" class=\"dataframe\">\n",
       "  <thead>\n",
       "    <tr style=\"text-align: right;\">\n",
       "      <th></th>\n",
       "      <th>sexo</th>\n",
       "      <th>idade</th>\n",
       "      <th>escolaridade</th>\n",
       "      <th>fumante</th>\n",
       "      <th>cigarros_por_dia</th>\n",
       "      <th>uso_medicamento_pressao</th>\n",
       "      <th>AVC</th>\n",
       "      <th>hipertensao</th>\n",
       "      <th>diabetes</th>\n",
       "      <th>colesterol_total</th>\n",
       "      <th>pressao_arterial_sistolica</th>\n",
       "      <th>pressao_arterial_diastolica</th>\n",
       "      <th>IMC</th>\n",
       "      <th>freq_cardiaca</th>\n",
       "      <th>glicemia</th>\n",
       "      <th>risco_DAC_decada</th>\n",
       "    </tr>\n",
       "  </thead>\n",
       "  <tbody>\n",
       "    <tr>\n",
       "      <th>0</th>\n",
       "      <td>1</td>\n",
       "      <td>39</td>\n",
       "      <td>4.0</td>\n",
       "      <td>0</td>\n",
       "      <td>0.0</td>\n",
       "      <td>0.0</td>\n",
       "      <td>0</td>\n",
       "      <td>0</td>\n",
       "      <td>0</td>\n",
       "      <td>195.0</td>\n",
       "      <td>106.0</td>\n",
       "      <td>70.0</td>\n",
       "      <td>26.97</td>\n",
       "      <td>80.0</td>\n",
       "      <td>77.0</td>\n",
       "      <td>0</td>\n",
       "    </tr>\n",
       "    <tr>\n",
       "      <th>1</th>\n",
       "      <td>0</td>\n",
       "      <td>46</td>\n",
       "      <td>2.0</td>\n",
       "      <td>0</td>\n",
       "      <td>0.0</td>\n",
       "      <td>0.0</td>\n",
       "      <td>0</td>\n",
       "      <td>0</td>\n",
       "      <td>0</td>\n",
       "      <td>250.0</td>\n",
       "      <td>121.0</td>\n",
       "      <td>81.0</td>\n",
       "      <td>28.73</td>\n",
       "      <td>95.0</td>\n",
       "      <td>76.0</td>\n",
       "      <td>0</td>\n",
       "    </tr>\n",
       "    <tr>\n",
       "      <th>2</th>\n",
       "      <td>1</td>\n",
       "      <td>48</td>\n",
       "      <td>1.0</td>\n",
       "      <td>1</td>\n",
       "      <td>20.0</td>\n",
       "      <td>0.0</td>\n",
       "      <td>0</td>\n",
       "      <td>0</td>\n",
       "      <td>0</td>\n",
       "      <td>245.0</td>\n",
       "      <td>127.5</td>\n",
       "      <td>80.0</td>\n",
       "      <td>25.34</td>\n",
       "      <td>75.0</td>\n",
       "      <td>70.0</td>\n",
       "      <td>0</td>\n",
       "    </tr>\n",
       "    <tr>\n",
       "      <th>3</th>\n",
       "      <td>0</td>\n",
       "      <td>61</td>\n",
       "      <td>3.0</td>\n",
       "      <td>1</td>\n",
       "      <td>30.0</td>\n",
       "      <td>0.0</td>\n",
       "      <td>0</td>\n",
       "      <td>1</td>\n",
       "      <td>0</td>\n",
       "      <td>225.0</td>\n",
       "      <td>150.0</td>\n",
       "      <td>95.0</td>\n",
       "      <td>28.58</td>\n",
       "      <td>65.0</td>\n",
       "      <td>103.0</td>\n",
       "      <td>1</td>\n",
       "    </tr>\n",
       "    <tr>\n",
       "      <th>4</th>\n",
       "      <td>0</td>\n",
       "      <td>46</td>\n",
       "      <td>3.0</td>\n",
       "      <td>1</td>\n",
       "      <td>23.0</td>\n",
       "      <td>0.0</td>\n",
       "      <td>0</td>\n",
       "      <td>0</td>\n",
       "      <td>0</td>\n",
       "      <td>285.0</td>\n",
       "      <td>130.0</td>\n",
       "      <td>84.0</td>\n",
       "      <td>23.10</td>\n",
       "      <td>85.0</td>\n",
       "      <td>85.0</td>\n",
       "      <td>0</td>\n",
       "    </tr>\n",
       "  </tbody>\n",
       "</table>\n",
       "</div>"
      ],
      "text/plain": [
       "   sexo  idade  escolaridade  fumante  cigarros_por_dia  \\\n",
       "0     1     39           4.0        0               0.0   \n",
       "1     0     46           2.0        0               0.0   \n",
       "2     1     48           1.0        1              20.0   \n",
       "3     0     61           3.0        1              30.0   \n",
       "4     0     46           3.0        1              23.0   \n",
       "\n",
       "   uso_medicamento_pressao  AVC  hipertensao  diabetes  colesterol_total  \\\n",
       "0                      0.0    0            0         0             195.0   \n",
       "1                      0.0    0            0         0             250.0   \n",
       "2                      0.0    0            0         0             245.0   \n",
       "3                      0.0    0            1         0             225.0   \n",
       "4                      0.0    0            0         0             285.0   \n",
       "\n",
       "   pressao_arterial_sistolica  pressao_arterial_diastolica    IMC  \\\n",
       "0                       106.0                         70.0  26.97   \n",
       "1                       121.0                         81.0  28.73   \n",
       "2                       127.5                         80.0  25.34   \n",
       "3                       150.0                         95.0  28.58   \n",
       "4                       130.0                         84.0  23.10   \n",
       "\n",
       "   freq_cardiaca  glicemia  risco_DAC_decada  \n",
       "0           80.0      77.0                 0  \n",
       "1           95.0      76.0                 0  \n",
       "2           75.0      70.0                 0  \n",
       "3           65.0     103.0                 1  \n",
       "4           85.0      85.0                 0  "
      ]
     },
     "execution_count": 20,
     "metadata": {},
     "output_type": "execute_result"
    }
   ],
   "source": [
    "ds.head()"
   ]
  },
  {
   "cell_type": "code",
   "execution_count": 21,
   "id": "907bc179",
   "metadata": {},
   "outputs": [],
   "source": [
    "# excluindo a coluna escolaridade \n",
    "ds = ds.drop_columns('escolaridade')"
   ]
  },
  {
   "cell_type": "code",
   "execution_count": 22,
   "id": "c48b4923",
   "metadata": {},
   "outputs": [
    {
     "data": {
      "text/plain": [
       "Index(['sexo', 'idade', 'fumante', 'cigarros_por_dia',\n",
       "       'uso_medicamento_pressao', 'AVC', 'hipertensao', 'diabetes',\n",
       "       'colesterol_total', 'pressao_arterial_sistolica',\n",
       "       'pressao_arterial_diastolica', 'IMC', 'freq_cardiaca', 'glicemia',\n",
       "       'risco_DAC_decada'],\n",
       "      dtype='object')"
      ]
     },
     "execution_count": 22,
     "metadata": {},
     "output_type": "execute_result"
    }
   ],
   "source": [
    "ds.columns"
   ]
  },
  {
   "cell_type": "markdown",
   "id": "494da7f2",
   "metadata": {},
   "source": [
    "## 2.3 Trabalhando com um ADS Data Frame"
   ]
  },
  {
   "cell_type": "markdown",
   "id": "ac4634b7",
   "metadata": {},
   "source": [
    "Link para a [documentação oficial](https://docs.oracle.com/en-us/iass/tools/ads-sdk/latest/index.html)"
   ]
  },
  {
   "cell_type": "code",
   "execution_count": 23,
   "id": "5f57a079",
   "metadata": {},
   "outputs": [
    {
     "data": {
      "text/html": [
       "\n",
       "        <style>\n",
       "            .mostly-customized-scrollbar {\n",
       "              display: block;\n",
       "              width: 100%;\n",
       "              overflow: auto;\n",
       "            }\n",
       "\n",
       "            .mostly-customized-scrollbar::-webkit-scrollbar {\n",
       "              width: 5px;\n",
       "              height: 8px;\n",
       "              background-color: #aaa;\n",
       "            }\n",
       "\n",
       "            .mostly-customized-scrollbar::-webkit-scrollbar-thumb {\n",
       "                background: #000;\n",
       "                border-radius: 10px;\n",
       "            }\n",
       "        </style>\n",
       "\n",
       "        <div style=\"width=100%; display: flex; flex-wrap: nowrap; overflow-x: auto;\">\n",
       "            <div class=\"mostly-customized-scrollbar\">\n",
       "                <style type=\"text/css\">\n",
       "#T_40ee2 tbody tr:nth-child(even) {\n",
       "  background-color: #F8F8F8;\n",
       "}\n",
       "#T_40ee2 tbody tr:hover {\n",
       "  background-color: #D9EDFD;\n",
       "}\n",
       "#T_40ee2 th {\n",
       "  font-size: 12px;\n",
       "  text-align: center;\n",
       "  font-weight: bold;\n",
       "  background-color: #D3D3D3;\n",
       "  padding-left: 5px;\n",
       "  padding-right: 5px;\n",
       "  text-align: right;\n",
       "}\n",
       "#T_40ee2 td {\n",
       "  font-size: 12px;\n",
       "  text_wrap: False;\n",
       "  white-space: nowrap;\n",
       "  overflow: hidden;\n",
       "  text-overflow: ellipsis;\n",
       "  max-width: 75px;\n",
       "}\n",
       "</style>\n",
       "<table id=\"T_40ee2\" class=table>\n",
       "  <thead>\n",
       "    <tr>\n",
       "      <th id=\"T_40ee2_level0_col0\" class=\"col_heading level0 col0\" >risco_DAC_decada</th>\n",
       "      <th id=\"T_40ee2_level0_col1\" class=\"col_heading level0 col1\" >sexo</th>\n",
       "      <th id=\"T_40ee2_level0_col2\" class=\"col_heading level0 col2\" >idade</th>\n",
       "      <th id=\"T_40ee2_level0_col3\" class=\"col_heading level0 col3\" >fumante</th>\n",
       "      <th id=\"T_40ee2_level0_col4\" class=\"col_heading level0 col4\" >cigarros_por_dia</th>\n",
       "      <th id=\"T_40ee2_level0_col5\" class=\"col_heading level0 col5\" >uso_medicamento_pressao</th>\n",
       "      <th id=\"T_40ee2_level0_col6\" class=\"col_heading level0 col6\" >AVC</th>\n",
       "      <th id=\"T_40ee2_level0_col7\" class=\"col_heading level0 col7\" >hipertensao</th>\n",
       "      <th id=\"T_40ee2_level0_col8\" class=\"col_heading level0 col8\" >diabetes</th>\n",
       "      <th id=\"T_40ee2_level0_col9\" class=\"col_heading level0 col9\" >colesterol_total</th>\n",
       "      <th id=\"T_40ee2_level0_col10\" class=\"col_heading level0 col10\" >pressao_arterial_sistolica</th>\n",
       "      <th id=\"T_40ee2_level0_col11\" class=\"col_heading level0 col11\" >pressao_arterial_diastolica</th>\n",
       "      <th id=\"T_40ee2_level0_col12\" class=\"col_heading level0 col12\" >IMC</th>\n",
       "      <th id=\"T_40ee2_level0_col13\" class=\"col_heading level0 col13\" >freq_cardiaca</th>\n",
       "      <th id=\"T_40ee2_level0_col14\" class=\"col_heading level0 col14\" >glicemia</th>\n",
       "    </tr>\n",
       "  </thead>\n",
       "  <tbody>\n",
       "    <tr>\n",
       "      <td id=\"T_40ee2_row0_col0\" class=\"data row0 col0\" >0</td>\n",
       "      <td id=\"T_40ee2_row0_col1\" class=\"data row0 col1\" >1</td>\n",
       "      <td id=\"T_40ee2_row0_col2\" class=\"data row0 col2\" >39</td>\n",
       "      <td id=\"T_40ee2_row0_col3\" class=\"data row0 col3\" >0</td>\n",
       "      <td id=\"T_40ee2_row0_col4\" class=\"data row0 col4\" >0.000000</td>\n",
       "      <td id=\"T_40ee2_row0_col5\" class=\"data row0 col5\" >0.000000</td>\n",
       "      <td id=\"T_40ee2_row0_col6\" class=\"data row0 col6\" >0</td>\n",
       "      <td id=\"T_40ee2_row0_col7\" class=\"data row0 col7\" >0</td>\n",
       "      <td id=\"T_40ee2_row0_col8\" class=\"data row0 col8\" >0</td>\n",
       "      <td id=\"T_40ee2_row0_col9\" class=\"data row0 col9\" >195.000000</td>\n",
       "      <td id=\"T_40ee2_row0_col10\" class=\"data row0 col10\" >106.000000</td>\n",
       "      <td id=\"T_40ee2_row0_col11\" class=\"data row0 col11\" >70.000000</td>\n",
       "      <td id=\"T_40ee2_row0_col12\" class=\"data row0 col12\" >26.970000</td>\n",
       "      <td id=\"T_40ee2_row0_col13\" class=\"data row0 col13\" >80.000000</td>\n",
       "      <td id=\"T_40ee2_row0_col14\" class=\"data row0 col14\" >77.000000</td>\n",
       "    </tr>\n",
       "    <tr>\n",
       "      <td id=\"T_40ee2_row1_col0\" class=\"data row1 col0\" >0</td>\n",
       "      <td id=\"T_40ee2_row1_col1\" class=\"data row1 col1\" >0</td>\n",
       "      <td id=\"T_40ee2_row1_col2\" class=\"data row1 col2\" >46</td>\n",
       "      <td id=\"T_40ee2_row1_col3\" class=\"data row1 col3\" >0</td>\n",
       "      <td id=\"T_40ee2_row1_col4\" class=\"data row1 col4\" >0.000000</td>\n",
       "      <td id=\"T_40ee2_row1_col5\" class=\"data row1 col5\" >0.000000</td>\n",
       "      <td id=\"T_40ee2_row1_col6\" class=\"data row1 col6\" >0</td>\n",
       "      <td id=\"T_40ee2_row1_col7\" class=\"data row1 col7\" >0</td>\n",
       "      <td id=\"T_40ee2_row1_col8\" class=\"data row1 col8\" >0</td>\n",
       "      <td id=\"T_40ee2_row1_col9\" class=\"data row1 col9\" >250.000000</td>\n",
       "      <td id=\"T_40ee2_row1_col10\" class=\"data row1 col10\" >121.000000</td>\n",
       "      <td id=\"T_40ee2_row1_col11\" class=\"data row1 col11\" >81.000000</td>\n",
       "      <td id=\"T_40ee2_row1_col12\" class=\"data row1 col12\" >28.730000</td>\n",
       "      <td id=\"T_40ee2_row1_col13\" class=\"data row1 col13\" >95.000000</td>\n",
       "      <td id=\"T_40ee2_row1_col14\" class=\"data row1 col14\" >76.000000</td>\n",
       "    </tr>\n",
       "    <tr>\n",
       "      <td id=\"T_40ee2_row2_col0\" class=\"data row2 col0\" >0</td>\n",
       "      <td id=\"T_40ee2_row2_col1\" class=\"data row2 col1\" >1</td>\n",
       "      <td id=\"T_40ee2_row2_col2\" class=\"data row2 col2\" >48</td>\n",
       "      <td id=\"T_40ee2_row2_col3\" class=\"data row2 col3\" >1</td>\n",
       "      <td id=\"T_40ee2_row2_col4\" class=\"data row2 col4\" >20.000000</td>\n",
       "      <td id=\"T_40ee2_row2_col5\" class=\"data row2 col5\" >0.000000</td>\n",
       "      <td id=\"T_40ee2_row2_col6\" class=\"data row2 col6\" >0</td>\n",
       "      <td id=\"T_40ee2_row2_col7\" class=\"data row2 col7\" >0</td>\n",
       "      <td id=\"T_40ee2_row2_col8\" class=\"data row2 col8\" >0</td>\n",
       "      <td id=\"T_40ee2_row2_col9\" class=\"data row2 col9\" >245.000000</td>\n",
       "      <td id=\"T_40ee2_row2_col10\" class=\"data row2 col10\" >127.500000</td>\n",
       "      <td id=\"T_40ee2_row2_col11\" class=\"data row2 col11\" >80.000000</td>\n",
       "      <td id=\"T_40ee2_row2_col12\" class=\"data row2 col12\" >25.340000</td>\n",
       "      <td id=\"T_40ee2_row2_col13\" class=\"data row2 col13\" >75.000000</td>\n",
       "      <td id=\"T_40ee2_row2_col14\" class=\"data row2 col14\" >70.000000</td>\n",
       "    </tr>\n",
       "    <tr>\n",
       "      <td id=\"T_40ee2_row3_col0\" class=\"data row3 col0\" >1</td>\n",
       "      <td id=\"T_40ee2_row3_col1\" class=\"data row3 col1\" >0</td>\n",
       "      <td id=\"T_40ee2_row3_col2\" class=\"data row3 col2\" >61</td>\n",
       "      <td id=\"T_40ee2_row3_col3\" class=\"data row3 col3\" >1</td>\n",
       "      <td id=\"T_40ee2_row3_col4\" class=\"data row3 col4\" >30.000000</td>\n",
       "      <td id=\"T_40ee2_row3_col5\" class=\"data row3 col5\" >0.000000</td>\n",
       "      <td id=\"T_40ee2_row3_col6\" class=\"data row3 col6\" >0</td>\n",
       "      <td id=\"T_40ee2_row3_col7\" class=\"data row3 col7\" >1</td>\n",
       "      <td id=\"T_40ee2_row3_col8\" class=\"data row3 col8\" >0</td>\n",
       "      <td id=\"T_40ee2_row3_col9\" class=\"data row3 col9\" >225.000000</td>\n",
       "      <td id=\"T_40ee2_row3_col10\" class=\"data row3 col10\" >150.000000</td>\n",
       "      <td id=\"T_40ee2_row3_col11\" class=\"data row3 col11\" >95.000000</td>\n",
       "      <td id=\"T_40ee2_row3_col12\" class=\"data row3 col12\" >28.580000</td>\n",
       "      <td id=\"T_40ee2_row3_col13\" class=\"data row3 col13\" >65.000000</td>\n",
       "      <td id=\"T_40ee2_row3_col14\" class=\"data row3 col14\" >103.000000</td>\n",
       "    </tr>\n",
       "    <tr>\n",
       "      <td id=\"T_40ee2_row4_col0\" class=\"data row4 col0\" >0</td>\n",
       "      <td id=\"T_40ee2_row4_col1\" class=\"data row4 col1\" >0</td>\n",
       "      <td id=\"T_40ee2_row4_col2\" class=\"data row4 col2\" >46</td>\n",
       "      <td id=\"T_40ee2_row4_col3\" class=\"data row4 col3\" >1</td>\n",
       "      <td id=\"T_40ee2_row4_col4\" class=\"data row4 col4\" >23.000000</td>\n",
       "      <td id=\"T_40ee2_row4_col5\" class=\"data row4 col5\" >0.000000</td>\n",
       "      <td id=\"T_40ee2_row4_col6\" class=\"data row4 col6\" >0</td>\n",
       "      <td id=\"T_40ee2_row4_col7\" class=\"data row4 col7\" >0</td>\n",
       "      <td id=\"T_40ee2_row4_col8\" class=\"data row4 col8\" >0</td>\n",
       "      <td id=\"T_40ee2_row4_col9\" class=\"data row4 col9\" >285.000000</td>\n",
       "      <td id=\"T_40ee2_row4_col10\" class=\"data row4 col10\" >130.000000</td>\n",
       "      <td id=\"T_40ee2_row4_col11\" class=\"data row4 col11\" >84.000000</td>\n",
       "      <td id=\"T_40ee2_row4_col12\" class=\"data row4 col12\" >23.100000</td>\n",
       "      <td id=\"T_40ee2_row4_col13\" class=\"data row4 col13\" >85.000000</td>\n",
       "      <td id=\"T_40ee2_row4_col14\" class=\"data row4 col14\" >85.000000</td>\n",
       "    </tr>\n",
       "  </tbody>\n",
       "</table>\n",
       "\n",
       "            </div>\n",
       "        </div>\n",
       "    "
      ],
      "text/plain": [
       "<IPython.core.display.HTML object>"
      ]
     },
     "metadata": {},
     "output_type": "display_data"
    },
    {
     "data": {
      "text/plain": [
       "BinaryClassificationDataset(target: risco_DAC_decada) 4,238 rows, 15 columns"
      ]
     },
     "execution_count": 23,
     "metadata": {},
     "output_type": "execute_result"
    }
   ],
   "source": [
    "ds"
   ]
  },
  {
   "cell_type": "code",
   "execution_count": 24,
   "id": "fac48818",
   "metadata": {},
   "outputs": [
    {
     "data": {
      "text/html": [
       "<div>\n",
       "<style scoped>\n",
       "    .dataframe tbody tr th:only-of-type {\n",
       "        vertical-align: middle;\n",
       "    }\n",
       "\n",
       "    .dataframe tbody tr th {\n",
       "        vertical-align: top;\n",
       "    }\n",
       "\n",
       "    .dataframe thead th {\n",
       "        text-align: right;\n",
       "    }\n",
       "</style>\n",
       "<table border=\"1\" class=\"dataframe\">\n",
       "  <thead>\n",
       "    <tr style=\"text-align: right;\">\n",
       "      <th></th>\n",
       "      <th>Feature</th>\n",
       "      <th>Datatype</th>\n",
       "    </tr>\n",
       "  </thead>\n",
       "  <tbody>\n",
       "    <tr>\n",
       "      <th>0</th>\n",
       "      <td>risco_DAC_decada</td>\n",
       "      <td>categorical/int64</td>\n",
       "    </tr>\n",
       "    <tr>\n",
       "      <th>1</th>\n",
       "      <td>sexo</td>\n",
       "      <td>categorical/int64</td>\n",
       "    </tr>\n",
       "    <tr>\n",
       "      <th>2</th>\n",
       "      <td>idade</td>\n",
       "      <td>ordinal/int64</td>\n",
       "    </tr>\n",
       "    <tr>\n",
       "      <th>3</th>\n",
       "      <td>fumante</td>\n",
       "      <td>categorical/int64</td>\n",
       "    </tr>\n",
       "    <tr>\n",
       "      <th>4</th>\n",
       "      <td>cigarros_por_dia</td>\n",
       "      <td>ordinal/float64</td>\n",
       "    </tr>\n",
       "    <tr>\n",
       "      <th>5</th>\n",
       "      <td>uso_medicamento_pressao</td>\n",
       "      <td>categorical/float64</td>\n",
       "    </tr>\n",
       "    <tr>\n",
       "      <th>6</th>\n",
       "      <td>AVC</td>\n",
       "      <td>categorical/int64</td>\n",
       "    </tr>\n",
       "    <tr>\n",
       "      <th>7</th>\n",
       "      <td>hipertensao</td>\n",
       "      <td>categorical/int64</td>\n",
       "    </tr>\n",
       "    <tr>\n",
       "      <th>8</th>\n",
       "      <td>diabetes</td>\n",
       "      <td>categorical/int64</td>\n",
       "    </tr>\n",
       "    <tr>\n",
       "      <th>9</th>\n",
       "      <td>colesterol_total</td>\n",
       "      <td>ordinal/float64</td>\n",
       "    </tr>\n",
       "    <tr>\n",
       "      <th>10</th>\n",
       "      <td>pressao_arterial_sistolica</td>\n",
       "      <td>continuous/float64</td>\n",
       "    </tr>\n",
       "    <tr>\n",
       "      <th>11</th>\n",
       "      <td>pressao_arterial_diastolica</td>\n",
       "      <td>continuous/float64</td>\n",
       "    </tr>\n",
       "    <tr>\n",
       "      <th>12</th>\n",
       "      <td>IMC</td>\n",
       "      <td>continuous/float64</td>\n",
       "    </tr>\n",
       "    <tr>\n",
       "      <th>13</th>\n",
       "      <td>freq_cardiaca</td>\n",
       "      <td>ordinal/float64</td>\n",
       "    </tr>\n",
       "    <tr>\n",
       "      <th>14</th>\n",
       "      <td>glicemia</td>\n",
       "      <td>ordinal/float64</td>\n",
       "    </tr>\n",
       "  </tbody>\n",
       "</table>\n",
       "</div>"
      ],
      "text/plain": [
       "                        Feature             Datatype\n",
       "0              risco_DAC_decada    categorical/int64\n",
       "1                          sexo    categorical/int64\n",
       "2                         idade        ordinal/int64\n",
       "3                       fumante    categorical/int64\n",
       "4              cigarros_por_dia      ordinal/float64\n",
       "5       uso_medicamento_pressao  categorical/float64\n",
       "6                           AVC    categorical/int64\n",
       "7                   hipertensao    categorical/int64\n",
       "8                      diabetes    categorical/int64\n",
       "9              colesterol_total      ordinal/float64\n",
       "10   pressao_arterial_sistolica   continuous/float64\n",
       "11  pressao_arterial_diastolica   continuous/float64\n",
       "12                          IMC   continuous/float64\n",
       "13                freq_cardiaca      ordinal/float64\n",
       "14                     glicemia      ordinal/float64"
      ]
     },
     "execution_count": 24,
     "metadata": {},
     "output_type": "execute_result"
    }
   ],
   "source": [
    "ds.summary()"
   ]
  },
  {
   "cell_type": "code",
   "execution_count": 25,
   "id": "e898f3bf",
   "metadata": {},
   "outputs": [
    {
     "name": "stderr",
     "output_type": "stream",
     "text": [
      "IntCastingNaNError: Cannot convert non-finite values (NA or inf) to integer"
     ]
    }
   ],
   "source": [
    "# corrigindo os types \n",
    "\n",
    "ds.astype(types={'cigarros_por_dia':'int64'})"
   ]
  },
  {
   "cell_type": "code",
   "execution_count": 26,
   "id": "6a5a9822",
   "metadata": {},
   "outputs": [
    {
     "data": {
      "text/plain": [
       "array([ 0., 20., 30., 23., 15.,  9., 10.,  5., 35., 43.,  1., 40.,  3.,\n",
       "        2., nan, 12.,  4., 18., 25., 60., 14., 45.,  8., 50., 13., 11.,\n",
       "        7.,  6., 38., 29., 17., 16., 19., 70.])"
      ]
     },
     "execution_count": 26,
     "metadata": {},
     "output_type": "execute_result"
    }
   ],
   "source": [
    "# verificando se tem valores NA \n",
    "ds.cigarros_por_dia.unique()"
   ]
  },
  {
   "cell_type": "code",
   "execution_count": 27,
   "id": "1d3c6dea",
   "metadata": {},
   "outputs": [
    {
     "data": {
      "text/plain": [
       "sexo                             0\n",
       "idade                            0\n",
       "fumante                          0\n",
       "cigarros_por_dia                29\n",
       "uso_medicamento_pressao         53\n",
       "AVC                              0\n",
       "hipertensao                      0\n",
       "diabetes                         0\n",
       "colesterol_total                50\n",
       "pressao_arterial_sistolica       0\n",
       "pressao_arterial_diastolica      0\n",
       "IMC                             19\n",
       "freq_cardiaca                    1\n",
       "glicemia                       388\n",
       "risco_DAC_decada                 0\n",
       "dtype: int64"
      ]
     },
     "execution_count": 27,
     "metadata": {},
     "output_type": "execute_result"
    }
   ],
   "source": [
    "# verificando os dados faltantes\n",
    "\n",
    "ds.isnull().sum()"
   ]
  },
  {
   "cell_type": "code",
   "execution_count": 28,
   "id": "b235af99",
   "metadata": {},
   "outputs": [],
   "source": [
    "# retirando os dados faltantes\n",
    "selecao_corretos= ds.cigarros_por_dia.notnull()"
   ]
  },
  {
   "cell_type": "code",
   "execution_count": 29,
   "id": "c1c8f451",
   "metadata": {},
   "outputs": [],
   "source": [
    "ds = ds[selecao_corretos]"
   ]
  },
  {
   "cell_type": "code",
   "execution_count": 30,
   "id": "8abef037",
   "metadata": {},
   "outputs": [
    {
     "data": {
      "text/plain": [
       "sexo                             0\n",
       "idade                            0\n",
       "fumante                          0\n",
       "cigarros_por_dia                 0\n",
       "uso_medicamento_pressao         53\n",
       "AVC                              0\n",
       "hipertensao                      0\n",
       "diabetes                         0\n",
       "colesterol_total                50\n",
       "pressao_arterial_sistolica       0\n",
       "pressao_arterial_diastolica      0\n",
       "IMC                             19\n",
       "freq_cardiaca                    1\n",
       "glicemia                       384\n",
       "risco_DAC_decada                 0\n",
       "dtype: int64"
      ]
     },
     "execution_count": 30,
     "metadata": {},
     "output_type": "execute_result"
    }
   ],
   "source": [
    "# verificando somente os dados corretos\n",
    "\n",
    "ds.isnull().sum()"
   ]
  },
  {
   "cell_type": "code",
   "execution_count": 31,
   "id": "02cdf67f",
   "metadata": {},
   "outputs": [],
   "source": [
    "# fazendo com outra variáveis a retirada dos valores nulos\n",
    "\n",
    "ds = ds[ds.uso_medicamento_pressao.notnull()]\n",
    "ds = ds[ds.colesterol_total.notnull()]\n",
    "ds = ds[ds.IMC.notnull()]\n",
    "ds = ds[ds.freq_cardiaca.notnull()]"
   ]
  },
  {
   "cell_type": "code",
   "execution_count": 32,
   "id": "1bb83b11",
   "metadata": {},
   "outputs": [
    {
     "data": {
      "text/plain": [
       "sexo                             0\n",
       "idade                            0\n",
       "fumante                          0\n",
       "cigarros_por_dia                 0\n",
       "uso_medicamento_pressao          0\n",
       "AVC                              0\n",
       "hipertensao                      0\n",
       "diabetes                         0\n",
       "colesterol_total                 0\n",
       "pressao_arterial_sistolica       0\n",
       "pressao_arterial_diastolica      0\n",
       "IMC                              0\n",
       "freq_cardiaca                    0\n",
       "glicemia                       339\n",
       "risco_DAC_decada                 0\n",
       "dtype: int64"
      ]
     },
     "execution_count": 32,
     "metadata": {},
     "output_type": "execute_result"
    }
   ],
   "source": [
    "# verificando \n",
    "\n",
    "ds.isnull().sum()"
   ]
  },
  {
   "cell_type": "markdown",
   "id": "70e85ef1",
   "metadata": {},
   "source": [
    "## 2.4-Trabalhando com Dados Faltantes"
   ]
  },
  {
   "cell_type": "code",
   "execution_count": 67,
   "id": "6a731aee",
   "metadata": {},
   "outputs": [],
   "source": [
    "# separando pessoas com diabetes e sem diabetes\n",
    "\n",
    "pessoas_com_diabetes = ds[ds.diabetes == 1]\n",
    "\n",
    "pessoas_sem_diabetes = ds[ds.diabetes ==0]\n"
   ]
  },
  {
   "cell_type": "code",
   "execution_count": 68,
   "id": "b16f7421",
   "metadata": {},
   "outputs": [
    {
     "data": {
      "text/plain": [
       "37    225.0\n",
       "44    215.0\n",
       "56     55.0\n",
       "66    202.0\n",
       "96    126.0\n",
       "Name: glicemia, dtype: float64"
      ]
     },
     "execution_count": 68,
     "metadata": {},
     "output_type": "execute_result"
    }
   ],
   "source": [
    "pessoas_com_diabetes.glicemia.head()"
   ]
  },
  {
   "cell_type": "code",
   "execution_count": 35,
   "id": "f30fda74",
   "metadata": {},
   "outputs": [
    {
     "data": {
      "text/plain": [
       "169.87254901960785"
      ]
     },
     "execution_count": 35,
     "metadata": {},
     "output_type": "execute_result"
    }
   ],
   "source": [
    "# média de pessoas com diabetes\n",
    "\n",
    "pessoas_com_diabetes.glicemia.mean()"
   ]
  },
  {
   "cell_type": "code",
   "execution_count": 36,
   "id": "c62ff251",
   "metadata": {},
   "outputs": [
    {
     "data": {
      "text/plain": [
       "79.42226487523992"
      ]
     },
     "execution_count": 36,
     "metadata": {},
     "output_type": "execute_result"
    }
   ],
   "source": [
    "# média de pessoas sem diabetes\n",
    "pessoas_sem_diabetes.glicemia.mean()"
   ]
  },
  {
   "cell_type": "code",
   "execution_count": 37,
   "id": "43e1b98f",
   "metadata": {},
   "outputs": [
    {
     "data": {
      "text/plain": [
       "81.88316884502534"
      ]
     },
     "execution_count": 37,
     "metadata": {},
     "output_type": "execute_result"
    }
   ],
   "source": [
    "# pessoas no geral glicemia\n",
    "\n",
    "ds.glicemia.mean()"
   ]
  },
  {
   "cell_type": "code",
   "execution_count": 38,
   "id": "238d291a",
   "metadata": {},
   "outputs": [
    {
     "data": {
      "text/plain": [
       "0    3984\n",
       "1     104\n",
       "Name: diabetes, dtype: int64"
      ]
     },
     "execution_count": 38,
     "metadata": {},
     "output_type": "execute_result"
    }
   ],
   "source": [
    "# número de pessoas diabetica \n",
    "\n",
    "ds.diabetes.value_counts()"
   ]
  },
  {
   "cell_type": "code",
   "execution_count": 39,
   "id": "c62ac135",
   "metadata": {},
   "outputs": [],
   "source": [
    "# Visualização de dados com seaborn\n",
    "\n",
    "import seaborn as sns"
   ]
  },
  {
   "cell_type": "code",
   "execution_count": 40,
   "id": "42a6ca55",
   "metadata": {},
   "outputs": [
    {
     "data": {
      "text/plain": [
       "<AxesSubplot:xlabel='glicemia', ylabel='Density'>"
      ]
     },
     "execution_count": 40,
     "metadata": {},
     "output_type": "execute_result"
    },
    {
     "data": {
      "image/png": "[encoded data removed]",
      "text/plain": [
       "<Figure size 640x480 with 1 Axes>"
      ]
     },
     "metadata": {},
     "output_type": "display_data"
    }
   ],
   "source": [
    "# distribuição dos valores\n",
    "sns.distplot(pessoas_com_diabetes.glicemia, norm_hist=False)"
   ]
  },
  {
   "cell_type": "code",
   "execution_count": 41,
   "id": "8aa9706d",
   "metadata": {},
   "outputs": [
    {
     "data": {
      "text/plain": [
       "count    3749.000000\n",
       "mean       81.883169\n",
       "std        23.888039\n",
       "min        40.000000\n",
       "25%        71.000000\n",
       "50%        78.000000\n",
       "75%        87.000000\n",
       "max       394.000000\n",
       "Name: glicemia, dtype: float64"
      ]
     },
     "execution_count": 41,
     "metadata": {},
     "output_type": "execute_result"
    }
   ],
   "source": [
    "# valor maximo de glicemia\n",
    "\n",
    "ds.glicemia.describe()"
   ]
  },
  {
   "cell_type": "code",
   "execution_count": 42,
   "id": "deb18110",
   "metadata": {},
   "outputs": [
    {
     "data": {
      "text/plain": [
       "(0.0, 400.0)"
      ]
     },
     "execution_count": 42,
     "metadata": {},
     "output_type": "execute_result"
    },
    {
     "data": {
      "image/png": "[encoded data removed]",
      "text/plain": [
       "<Figure size 640x480 with 1 Axes>"
      ]
     },
     "metadata": {},
     "output_type": "display_data"
    }
   ],
   "source": [
    "# valores de glicemia de 0 a 400\n",
    "\n",
    "ax = sns.distplot(pessoas_com_diabetes.glicemia, norm_hist=False)\n",
    "ax.set_xlim(0,400)"
   ]
  },
  {
   "cell_type": "code",
   "execution_count": 43,
   "id": "52ae8a30",
   "metadata": {},
   "outputs": [
    {
     "data": {
      "text/plain": [
       "(0.0, 400.0)"
      ]
     },
     "execution_count": 43,
     "metadata": {},
     "output_type": "execute_result"
    },
    {
     "data": {
      "image/png": "[encoded data removed]",
      "text/plain": [
       "<Figure size 640x480 with 1 Axes>"
      ]
     },
     "metadata": {},
     "output_type": "display_data"
    }
   ],
   "source": [
    "# pessoas sem diabetes\n",
    "sns.distplot(pessoas_sem_diabetes.glicemia, norm_hist=False)\n",
    "ax.set_xlim(0,400)"
   ]
  },
  {
   "cell_type": "code",
   "execution_count": 44,
   "id": "db656844",
   "metadata": {},
   "outputs": [],
   "source": [
    "# pessoas que não tem diabetes estão sem valores de glicemia\n",
    "\n",
    "nulos = ds.glicemia.isnull()"
   ]
  },
  {
   "cell_type": "code",
   "execution_count": 45,
   "id": "d11cd602",
   "metadata": {},
   "outputs": [
    {
     "data": {
      "text/plain": [
       "0    337\n",
       "1      2\n",
       "Name: diabetes, dtype: int64"
      ]
     },
     "execution_count": 45,
     "metadata": {},
     "output_type": "execute_result"
    }
   ],
   "source": [
    "# pessoas sem diabete e com diabtes tem dentro dos dados nulos\n",
    "\n",
    "ds[nulos].diabetes.value_counts()"
   ]
  },
  {
   "cell_type": "code",
   "execution_count": 46,
   "id": "5824be4a",
   "metadata": {},
   "outputs": [
    {
     "data": {
      "text/plain": [
       "81.88316884502534"
      ]
     },
     "execution_count": 46,
     "metadata": {},
     "output_type": "execute_result"
    }
   ],
   "source": [
    "# média geral de glicemia\n",
    "\n",
    "ds.glicemia.mean()"
   ]
  },
  {
   "cell_type": "code",
   "execution_count": 69,
   "id": "22559e91",
   "metadata": {},
   "outputs": [],
   "source": [
    "ds.fillna({'glicemia': 81.8}, inplace = True)\n"
   ]
  },
  {
   "cell_type": "code",
   "execution_count": 70,
   "id": "cbeac5c2",
   "metadata": {},
   "outputs": [
    {
     "data": {
      "text/plain": [
       "sexo                           0\n",
       "idade                          0\n",
       "fumante                        0\n",
       "cigarros_por_dia               0\n",
       "uso_medicamento_pressao        0\n",
       "AVC                            0\n",
       "hipertensao                    0\n",
       "diabetes                       0\n",
       "colesterol_total               0\n",
       "pressao_arterial_sistolica     0\n",
       "pressao_arterial_diastolica    0\n",
       "IMC                            0\n",
       "freq_cardiaca                  0\n",
       "glicemia                       0\n",
       "risco_DAC_decada               0\n",
       "dtype: int64"
      ]
     },
     "execution_count": 70,
     "metadata": {},
     "output_type": "execute_result"
    }
   ],
   "source": [
    "# numero de dados nulos\n",
    "\n",
    "ds.isnull().sum()"
   ]
  }
 ],
 "metadata": {
  "kernelspec": {
   "display_name": "Python [conda env:dbexp_p38_cpu_v1]",
   "language": "python",
   "name": "conda-env-dbexp_p38_cpu_v1-py"
  },
  "language_info": {
   "codemirror_mode": {
    "name": "ipython",
    "version": 3
   },
   "file_extension": ".py",
   "mimetype": "text/x-python",
   "name": "python",
   "nbconvert_exporter": "python",
   "pygments_lexer": "ipython3",
   "version": "3.8.13"
  }
 },
 "nbformat": 4,
 "nbformat_minor": 5
}
